{
  "cells": [
    {
      "cell_type": "code",
      "execution_count": 1,
      "metadata": {
        "id": "sBmudvOFz4iH",
        "colab": {
          "base_uri": "https://localhost:8080/",
          "height": 399
        },
        "outputId": "66fbbce9-8390-4e20-9f79-2b5ea9b6b50e"
      },
      "source": [
        "!pip install flask\n",
        "import flask\n",
        "import urllib.request\n",
        "import urllib.parse\n",
        "import os\n",
        "\n",
        "# Webアプリ本体\n",
        "app = flask.Flask(__name__)\n",
        "\n",
        "@app.route(\"/\", methods=['GET'])\n",
        "def root_get():\n",
        "    response_html = \"\"\"\n",
        "    <html>\n",
        "    <head>\n",
        "        <meta charset=\"UTF-8\">\n",
        "        <title>魚拓作成</title>\n",
        "    </head>\n",
        "    <body>\n",
        "        <h1>魚拓作成</h1>\n",
        "        <form method=\"get\" action=\"/get\" target=\"output\">\n",
        "            URL: <input type=\"text\" name=\"url\"><br>\n",
        "            <input type=\"submit\" value=\"送信\">\n",
        "        </form>\n",
        "        <iframe name=\"output\"></iframe>\n",
        "    </body>\n",
        "    </html>\n",
        "    \"\"\"\n",
        "    return flask.Response(response_html, mimetype=\"text/html\")\n",
        "\n",
        "@app.route(\"/get\", methods=['GET'])\n",
        "def file_post():\n",
        "    url = flask.request.args.get(\"url\") or \"\"\n",
        "    try:\n",
        "        with urllib.request.urlopen(url) as response:\n",
        "            data = response.read()\n",
        "        return flask.Response(data, mimetype=\"text/html\")\n",
        "    except urllib.error.URLError as e:\n",
        "        print(e)\n",
        "        return flask.Response(\"<div>URLが正しくありません</div>\", mimetype=\"text/html\")\n",
        "    except urllib.error.HTTPError as e:\n",
        "        print(e)\n",
        "        return flask.Response(\"<div>URLにアクセスできませんでした</div>\", mimetype=\"text/html\")\n",
        "    except Exception as e:\n",
        "        print(e)\n",
        "        return flask.Response(\"<div>不明なエラー</div>\", mimetype=\"text/html\")\n",
        "\n",
        "# 起動\n",
        "try:\n",
        "    import google.colab\n",
        "    google.colab.output.serve_kernel_port_as_window(5000, path=\"\")\n",
        "except Exception as e:\n",
        "    print(e)\n",
        "\n",
        "app.run(host=\"0.0.0.0\", port=5000)\n"
      ],
      "outputs": [
        {
          "output_type": "stream",
          "name": "stdout",
          "text": [
            "Requirement already satisfied: flask in /usr/local/lib/python3.11/dist-packages (3.1.1)\n",
            "Requirement already satisfied: blinker>=1.9.0 in /usr/local/lib/python3.11/dist-packages (from flask) (1.9.0)\n",
            "Requirement already satisfied: click>=8.1.3 in /usr/local/lib/python3.11/dist-packages (from flask) (8.2.1)\n",
            "Requirement already satisfied: itsdangerous>=2.2.0 in /usr/local/lib/python3.11/dist-packages (from flask) (2.2.0)\n",
            "Requirement already satisfied: jinja2>=3.1.2 in /usr/local/lib/python3.11/dist-packages (from flask) (3.1.6)\n",
            "Requirement already satisfied: markupsafe>=2.1.1 in /usr/local/lib/python3.11/dist-packages (from flask) (3.0.2)\n",
            "Requirement already satisfied: werkzeug>=3.1.0 in /usr/local/lib/python3.11/dist-packages (from flask) (3.1.3)\n",
            "\u001b[31mWarning: This function may stop working due to changes in browser security.\n",
            "Try `serve_kernel_port_as_iframe` instead. \u001b[0m\n"
          ]
        },
        {
          "output_type": "display_data",
          "data": {
            "text/plain": [
              "<IPython.core.display.Javascript object>"
            ],
            "application/javascript": [
              "(async (port, path, text, element) => {\n",
              "    if (!google.colab.kernel.accessAllowed) {\n",
              "      return;\n",
              "    }\n",
              "    element.appendChild(document.createTextNode(''));\n",
              "    const url = await google.colab.kernel.proxyPort(port);\n",
              "    const anchor = document.createElement('a');\n",
              "    anchor.href = new URL(path, url).toString();\n",
              "    anchor.target = '_blank';\n",
              "    anchor.setAttribute('data-href', url + path);\n",
              "    anchor.textContent = text;\n",
              "    element.appendChild(anchor);\n",
              "  })(5000, \"\", \"https://localhost:5000\", window.element)"
            ]
          },
          "metadata": {}
        },
        {
          "output_type": "stream",
          "name": "stdout",
          "text": [
            " * Serving Flask app '__main__'\n",
            " * Debug mode: off\n"
          ]
        },
        {
          "output_type": "stream",
          "name": "stderr",
          "text": [
            "INFO:werkzeug:\u001b[31m\u001b[1mWARNING: This is a development server. Do not use it in a production deployment. Use a production WSGI server instead.\u001b[0m\n",
            " * Running on all addresses (0.0.0.0)\n",
            " * Running on http://127.0.0.1:5000\n",
            " * Running on http://172.28.0.12:5000\n",
            "INFO:werkzeug:\u001b[33mPress CTRL+C to quit\u001b[0m\n",
            "INFO:werkzeug:127.0.0.1 - - [15/Jul/2025 21:49:13] \"GET / HTTP/1.1\" 200 -\n",
            "INFO:werkzeug:127.0.0.1 - - [15/Jul/2025 21:49:15] \"\u001b[33mGET /favicon.ico HTTP/1.1\u001b[0m\" 404 -\n",
            "INFO:werkzeug:127.0.0.1 - - [15/Jul/2025 21:49:32] \"GET /get?url=https://www.yahoo.co.jp/ HTTP/1.1\" 200 -\n",
            "INFO:werkzeug:127.0.0.1 - - [15/Jul/2025 21:52:07] \"GET /get?url=http://metadata/computeMetadata/ HTTP/1.1\" 200 -\n"
          ]
        },
        {
          "output_type": "stream",
          "name": "stdout",
          "text": [
            "HTTP Error 400: Bad Request\n"
          ]
        }
      ]
    },
    {
      "cell_type": "markdown",
      "metadata": {
        "id": "QuEaD_tZz4iL"
      },
      "source": [
        "## 情報セキュリティ演習 - Webアプリケーション5\n",
        "\n",
        "#### サーバーサイドリクエストフォージェリ\n"
      ]
    }
  ],
  "metadata": {
    "colab": {
      "provenance": []
    },
    "kernelspec": {
      "display_name": "Python 3",
      "name": "python3"
    },
    "language_info": {
      "name": "python"
    }
  },
  "nbformat": 4,
  "nbformat_minor": 0
}