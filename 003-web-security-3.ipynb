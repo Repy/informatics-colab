{
  "cells": [
    {
      "cell_type": "code",
      "execution_count": null,
      "metadata": {
        "id": "sBmudvOFz4iH"
      },
      "source": [
        "!pip install flask\n",
        "import flask\n",
        "import urllib.request\n",
        "import urllib.parse\n",
        "import os\n",
        "\n",
        "if not os.path.exists('./files'):\n",
        "    os.makedirs('./files')\n",
        "    urllib.request.urlretrieve('https://colab.repy.info/image.png', './files/image.png')\n",
        "\n",
        "# Webアプリ本体\n",
        "app = flask.Flask(__name__)\n",
        "\n",
        "@app.route(\"/\", methods=['GET'])\n",
        "def root_get():\n",
        "    response_html = \"\"\"\n",
        "    <html>\n",
        "    <head>\n",
        "        <meta charset=\"UTF-8\">\n",
        "        <title>ファイルアップロード</title>\n",
        "    </head>\n",
        "    <body>\n",
        "        <h1>ファイルアップロード</h1>\n",
        "        <form method=\"post\" enctype=\"multipart/form-data\" action=\"/file\">\n",
        "            <input type=\"file\" name=\"file\" accept=\"image/*\"><br>\n",
        "            <input type=\"submit\" value=\"送信\">\n",
        "        </form>\n",
        "    </body>\n",
        "    </html>\n",
        "    \"\"\"\n",
        "    return flask.Response(response_html, mimetype=\"text/html\")\n",
        "\n",
        "@app.route(\"/file\", methods=['POST'])\n",
        "def file_post():\n",
        "    if 'file' not in flask.request.files:\n",
        "        print(\"aa\")\n",
        "        return flask.redirect(\"/\")\n",
        "    file = flask.request.files.get('file')\n",
        "    filename = file.filename\n",
        "    if filename == '':\n",
        "        print(\"bb\")\n",
        "        return flask.redirect(\"/\")\n",
        "    file.save(\"./files/\" + filename)\n",
        "    return flask.redirect(\"/file?path=\" + filename)\n",
        "\n",
        "@app.route(\"/file\", methods=['GET'])\n",
        "def file_get():\n",
        "    filename = flask.request.args.get(\"path\") or \"\"\n",
        "    response_html = '''\n",
        "    <html>\n",
        "    <head>\n",
        "        <meta charset=\"UTF-8\">\n",
        "        <title>ファイルアップロード</title>\n",
        "    </head>\n",
        "    <body>\n",
        "        <h1>ファイルアップロード</h1>\n",
        "        <div><a href=\"/getfile?path='''+ urllib.parse.quote(filename) +'''\">ダウンロード</a></div>\n",
        "    </body>\n",
        "    </html>\n",
        "    '''\n",
        "    return flask.Response(response_html, mimetype=\"text/html\")\n",
        "\n",
        "@app.route(\"/getfile\", methods=['GET'])\n",
        "def getfile_get():\n",
        "    filename = flask.request.args.get(\"path\") or \"\"\n",
        "    return flask.send_file(\"./files/\" + filename, as_attachment = True, download_name = filename)\n",
        "\n",
        "# 起動\n",
        "try:\n",
        "    import google.colab\n",
        "    google.colab.output.serve_kernel_port_as_window(5000, path=\"\")\n",
        "except Exception as e:\n",
        "    print(e)\n",
        "\n",
        "app.run(host=\"0.0.0.0\", port=5000)\n"
      ],
      "outputs": []
    },
    {
      "cell_type": "markdown",
      "metadata": {
        "id": "QuEaD_tZz4iL"
      },
      "source": [
        "## 情報セキュリティ演習 - Webアプリケーション3\n",
        "\n",
        "#### パストラバーサル\n",
        "\n",
        "攻撃できる文字列\n",
        "\n",
        "```\n",
        "../../../../../etc/passwd\n",
        "```\n"
      ]
    }
  ],
  "metadata": {
    "colab": {
      "provenance": []
    },
    "kernelspec": {
      "display_name": "Python 3",
      "name": "python3"
    },
    "language_info": {
      "name": "python"
    }
  },
  "nbformat": 4,
  "nbformat_minor": 0
}