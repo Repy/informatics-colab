{
  "cells": [
    {
      "cell_type": "code",
      "execution_count": 4,
      "metadata": {
        "id": "sBmudvOFz4iH",
        "outputId": "aeac405b-ae4c-404a-e531-d573a71e6437",
        "colab": {
          "base_uri": "https://localhost:8080/",
          "height": 391
        }
      },
      "source": [
        "import google.colab\n",
        "import subprocess\n",
        "import http.server\n",
        "import urllib.parse\n",
        "import urllib.request\n",
        "\n",
        "PORT = 18080\n",
        "ADDRESS = (\"localhost\", PORT)\n",
        "\n",
        "url='https://colab.repy.info/image.png'\n",
        "save_name='image.png'\n",
        "urllib.request.urlretrieve(url, save_name)\n",
        "\n",
        "# Webアプリ本体\n",
        "class MyHTTPRequestHandler(http.server.BaseHTTPRequestHandler):\n",
        "\n",
        "    def do_GET(self):\n",
        "        url = urllib.parse.urlparse(self.path)\n",
        "        if url.path == \"/\":\n",
        "            self.send_response(200)\n",
        "            self.send_header(\"Content-Type\", \"text/html; charset=utf-8\")\n",
        "            self.end_headers()\n",
        "            response_html = \"\"\"\n",
        "            <html>\n",
        "            <head>\n",
        "                <meta charset=\"UTF-8\">\n",
        "                <title>ホームページ</title>\n",
        "            </head>\n",
        "            <body>\n",
        "                <h1>ホームページ</h1>\n",
        "                <div>\n",
        "                    <img src=\"/file?path=image.png\"><br>\n",
        "                    このサイトはセキュリティ教材です。\n",
        "                </div>\n",
        "            </body>\n",
        "            </html>\n",
        "            \"\"\"\n",
        "            self.wfile.write(response_html.encode())\n",
        "        elif url.path == \"/file\":\n",
        "            path = urllib.parse.parse_qs(url.query)[\"path\"][0]\n",
        "            self.send_response(200)\n",
        "            self.send_header(\"Content-Type\", \"text/plain\")\n",
        "            self.end_headers()\n",
        "            with open(path, \"rb\") as f:\n",
        "                self.wfile.write(f.read())\n",
        "        else:\n",
        "            self.send_response(404)\n",
        "            self.send_header(\"Content-Type\", \"text/html; charset=utf-8\")\n",
        "            self.end_headers()\n",
        "            self.wfile.write(\"404 Not Found\".encode())\n",
        "\n",
        "# 起動\n",
        "with http.server.HTTPServer(ADDRESS, MyHTTPRequestHandler) as server:\n",
        "    google.colab.output.serve_kernel_port_as_window(PORT, path=\"\")\n",
        "    server.serve_forever()\n"
      ]
    },
    {
      "cell_type": "markdown",
      "metadata": {
        "id": "QuEaD_tZz4iL"
      },
      "source": [
        "## 情報セキュリティ演習 - Webアプリケーション3\n",
        "\n",
        "#### パストラバーサル\n",
        "\n",
        "攻撃できる文字列\n",
        "\n",
        "```\n",
        "../../../../../etc/passwd\n",
        "```\n"
      ]
    }
  ],
  "metadata": {
    "colab": {
      "provenance": []
    },
    "kernelspec": {
      "display_name": "Python 3",
      "name": "python3"
    },
    "language_info": {
      "name": "python"
    }
  },
  "nbformat": 4,
  "nbformat_minor": 0
}
